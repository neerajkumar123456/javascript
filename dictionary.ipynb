{
 "cells": [
  {
   "cell_type": "code",
   "execution_count": 15,
   "metadata": {},
   "outputs": [
    {
     "name": "stdout",
     "output_type": "stream",
     "text": [
      "enrter the first wordnews\n",
      "enter the second wordpaper\n",
      "yes\n"
     ]
    }
   ],
   "source": [
    "import json\n",
    "from difflib import get_close_matches\n",
    "df=json.load(open(\"data.json\"))\n",
    "\n",
    "def translate(a):\n",
    "    #a=get_close_matches(a,df,cutoff=.8)\n",
    "    if a in df:\n",
    "        #return df[a] \n",
    "        return True\n",
    "    \n",
    "    elif a.title() in df:\n",
    "        #return(df[a.title()])\n",
    "        return True\n",
    "    elif a.upper() in df:\n",
    "            #return(df[a.upper()])\n",
    "            return True\n",
    "    elif a.lower() in df:\n",
    "        #return(df[a.lower()])\n",
    "        return True\n",
    "    elif len(get_close_matches(a,df.keys()))>0:\n",
    "        print(\"did you mean %s\" %get_close_matches(a,df.keys())[0])\n",
    "        decide=input(\"press y for yes n for no\")\n",
    "        if decide==\"y\":\n",
    "            return df[get_close_matches(a,df.keys())[0]]\n",
    "        elif decide==\"n\":\n",
    "            return (\"wrong key,  please try  again\")\n",
    "        else:\n",
    "            return(\"enter the valid the input in the from y and n\")\n",
    "    else:\n",
    "        print(\"enter the valid input \")\n",
    "        \n",
    "a=input(\"enrter the first word\")\n",
    "b=input(\"enter the second word\")\n",
    "a=a+b\n",
    "transfer=translate(a)\n",
    "#print(\"\\n\", transfer)\n",
    "if transfer==True:\n",
    "    #for i in transfer:\n",
    "       # print(i)\n",
    "        print(\"yes\")\n",
    "else:\n",
    "    #print(transfer)\n",
    "    print('No')"
   ]
  },
  {
   "cell_type": "code",
   "execution_count": 12,
   "metadata": {},
   "outputs": [
    {
     "data": {
      "text/plain": [
       "'DFUVFUNSJD'"
      ]
     },
     "execution_count": 12,
     "metadata": {},
     "output_type": "execute_result"
    }
   ],
   "source": [
    "A='DFUVFUnsjd'\n",
    "A.upper()"
   ]
  },
  {
   "cell_type": "code",
   "execution_count": null,
   "metadata": {},
   "outputs": [],
   "source": []
  }
 ],
 "metadata": {
  "kernelspec": {
   "display_name": "Python 3",
   "language": "python",
   "name": "python3"
  },
  "language_info": {
   "codemirror_mode": {
    "name": "ipython",
    "version": 3
   },
   "file_extension": ".py",
   "mimetype": "text/x-python",
   "name": "python",
   "nbconvert_exporter": "python",
   "pygments_lexer": "ipython3",
   "version": "3.7.4"
  }
 },
 "nbformat": 4,
 "nbformat_minor": 4
}
